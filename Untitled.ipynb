{
 "cells": [
  {
   "cell_type": "code",
   "execution_count": 1,
   "id": "1b4c94b4",
   "metadata": {},
   "outputs": [
    {
     "name": "stdout",
     "output_type": "stream",
     "text": [
      "Cloning into 'retinaface'...\n",
      "remote: Enumerating objects: 544, done.\u001b[K\n",
      "remote: Counting objects: 100% (128/128), done.\u001b[K\n",
      "remote: Compressing objects: 100% (82/82), done.\u001b[K\n",
      "remote: Total 544 (delta 59), reused 87 (delta 45), pack-reused 416\u001b[K\n",
      "Receiving objects: 100% (544/544), 12.78 MiB | 2.18 MiB/s, done.\n",
      "Resolving deltas: 100% (287/287), done.\n"
     ]
    }
   ],
   "source": [
    "# !git clone https://github.com/serengil/retinaface.git"
   ]
  },
  {
   "cell_type": "code",
   "execution_count": 3,
   "id": "68de714b",
   "metadata": {},
   "outputs": [
    {
     "name": "stdout",
     "output_type": "stream",
     "text": [
      "/Users/abhaychaturvedi/Documents/Work/id-verification/face_rec_module/retinaface\n"
     ]
    }
   ],
   "source": [
    "# %cd retinaface"
   ]
  },
  {
   "cell_type": "code",
   "execution_count": 5,
   "id": "d8ddfd2a",
   "metadata": {},
   "outputs": [],
   "source": [
    "# !pip install ."
   ]
  },
  {
   "cell_type": "code",
   "execution_count": 1,
   "id": "99837033",
   "metadata": {},
   "outputs": [
    {
     "name": "stdout",
     "output_type": "stream",
     "text": [
      "Untitled.ipynb \u001b[34mmodels\u001b[m\u001b[m         \u001b[34mretinaface\u001b[m\u001b[m     \u001b[34mtmp\u001b[m\u001b[m\r\n"
     ]
    }
   ],
   "source": [
    "!ls"
   ]
  },
  {
   "cell_type": "code",
   "execution_count": null,
   "id": "87cb033e",
   "metadata": {},
   "outputs": [],
   "source": [
    "from retinaface import RetinaFace\n"
   ]
  },
  {
   "cell_type": "code",
   "execution_count": null,
   "id": "b373d257",
   "metadata": {},
   "outputs": [],
   "source": []
  }
 ],
 "metadata": {
  "kernelspec": {
   "display_name": "Python 3 (ipykernel)",
   "language": "python",
   "name": "python3"
  },
  "language_info": {
   "codemirror_mode": {
    "name": "ipython",
    "version": 3
   },
   "file_extension": ".py",
   "mimetype": "text/x-python",
   "name": "python",
   "nbconvert_exporter": "python",
   "pygments_lexer": "ipython3",
   "version": "3.9.15"
  }
 },
 "nbformat": 4,
 "nbformat_minor": 5
}
